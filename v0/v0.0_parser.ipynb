{
 "cells": [
  {
   "cell_type": "code",
   "id": "initial_id",
   "metadata": {
    "collapsed": true
   },
   "source": [
    "import os\n",
    "import mutagen\n",
    "from mutagen.mp3 import MP3\n",
    "from mutagen.mp4 import MP4\n",
    "from dotenv import load_dotenv  \n"
   ],
   "outputs": [],
   "execution_count": null
  },
  {
   "metadata": {},
   "cell_type": "code",
   "source": [
    "load_dotenv()\n",
    "os.getenv(\"album_directory\")\n",
    "directory = \"/Users/aryan_k/Documents/photography/music/downloaded\"\n",
    "\n",
    "# Debugging\n",
    "# print(os.listdir(directory))"
   ],
   "id": "52c167bf75eba755",
   "outputs": [],
   "execution_count": null
  },
  {
   "metadata": {},
   "cell_type": "code",
   "source": [
    "# For changing the metadata for .m4a files\n",
    "# \\xa9ART - ©ART\n",
    "# \\xa9alb - ©alb\n",
    "for filename in os.listdir(directory):\n",
    "    try:\n",
    "        if filename.endswith(\".m4a\"):\n",
    "            file_path = os.path.join(directory, filename)  # Use full path\n",
    "            audio = MP4(file_path)\n",
    "\n",
    "            audio[\"\\xa9ART\"] = [\"Vibe Fitting\"]  # Artist\n",
    "            audio[\"\\xa9alb\"] = [\"Downloaded\"]    # Album\n",
    "\n",
    "            audio.save()\n",
    "            print(f\"Updated: {filename}\")\n",
    "\n",
    "    except Exception as e:\n",
    "        print(f\"Error processing {filename}: {e}\")\n"
   ],
   "id": "3540b5a2f382a3cb",
   "outputs": [],
   "execution_count": null
  },
  {
   "metadata": {},
   "cell_type": "code",
   "source": [
    "# For changing the metadata for .mp3 files\n",
    "# \\xa9ART - ©ART\n",
    "# \\xa9alb - ©alb\n",
    "for filename in os.listdir(directory):\n",
    "    try:\n",
    "        if filename.endswith(\".mp3\"):\n",
    "            file_path = os.path.join(directory, filename)  # Use full path\n",
    "            audio = MP3(file_path)\n",
    "\n",
    "            # Using mutagen textframe to update metadata instead of a string encoding.\n",
    "            audio[\"\\xa9ART\"] = mutagen.id3.TextFrame(encoding=3, text=[u\"Vibe Fitting\"])  # Artist\n",
    "            audio[\"\\xa9alb\"] = mutagen.id3.TextFrame(encoding=3, text=[u\"Downloaded\"])    # Album\n",
    "\n",
    "            audio.save()\n",
    "            print(f\"Updated: {filename}\")\n",
    "\n",
    "    except Exception as e:\n",
    "        print(f\"Error processing {filename}: {e}\")"
   ],
   "id": "b8249f34d88e23bc",
   "outputs": [],
   "execution_count": null
  }
 ],
 "metadata": {
  "kernelspec": {
   "display_name": "Python 3",
   "language": "python",
   "name": "python3"
  },
  "language_info": {
   "codemirror_mode": {
    "name": "ipython",
    "version": 2
   },
   "file_extension": ".py",
   "mimetype": "text/x-python",
   "name": "python",
   "nbconvert_exporter": "python",
   "pygments_lexer": "ipython2",
   "version": "2.7.6"
  }
 },
 "nbformat": 4,
 "nbformat_minor": 5
}
